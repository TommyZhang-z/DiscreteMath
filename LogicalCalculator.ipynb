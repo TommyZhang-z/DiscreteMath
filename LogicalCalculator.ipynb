{
  "nbformat": 4,
  "nbformat_minor": 0,
  "metadata": {
    "kernelspec": {
      "name": "python3",
      "display_name": "Python 3",
      "language": "python"
    },
    "colab": {
      "name": "LogicalCalculator.ipynb",
      "provenance": [],
      "collapsed_sections": []
    }
  },
  "cells": [
    {
      "cell_type": "markdown",
      "metadata": {
        "id": "hbT1uRIECTQe"
      },
      "source": [
        "# 逻辑计算器"
      ]
    },
    {
      "cell_type": "markdown",
      "metadata": {
        "id": "ZP4wLB77i52B"
      },
      "source": [
        "## 挂载google drive"
      ]
    },
    {
      "cell_type": "code",
      "metadata": {
        "colab": {
          "base_uri": "https://localhost:8080/"
        },
        "id": "YS-AbMg9iv6u",
        "outputId": "b5829ec8-bd38-4937-ae00-ddb51f770752"
      },
      "source": [
        "from google.colab import drive\n",
        "drive.mount('/content/drive')"
      ],
      "execution_count": null,
      "outputs": [
        {
          "output_type": "stream",
          "text": [
            "Drive already mounted at /content/drive; to attempt to forcibly remount, call drive.mount(\"/content/drive\", force_remount=True).\n"
          ],
          "name": "stdout"
        }
      ]
    },
    {
      "cell_type": "markdown",
      "metadata": {
        "id": "_yWEErXHoH0N"
      },
      "source": [
        "## 添加google drive到系统路径"
      ]
    },
    {
      "cell_type": "code",
      "metadata": {
        "id": "aIgOxVI3kv1Q"
      },
      "source": [
        "import sys\n",
        "sys.path.append('/content/drive/MyDrive/Colab Notebooks')"
      ],
      "execution_count": null,
      "outputs": []
    },
    {
      "cell_type": "markdown",
      "metadata": {
        "id": "vMN6Yh5yCTQh"
      },
      "source": [
        "## 导入核心库"
      ]
    },
    {
      "cell_type": "code",
      "metadata": {
        "id": "qetQxNj-CTQi"
      },
      "source": [
        "import logic_calculator as lc"
      ],
      "execution_count": null,
      "outputs": []
    },
    {
      "cell_type": "markdown",
      "metadata": {
        "id": "XcwRklY8FkR3"
      },
      "source": [
        "## 怕你忘了\n",
        "![base.png](data:image/png;base64,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)"
      ]
    },
    {
      "cell_type": "markdown",
      "metadata": {
        "id": "aUznIMoFCTQk"
      },
      "source": [
        "## 单变量实例示范\n",
        "![exmple1.png](data:image/png;base64,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)"
      ]
    },
    {
      "cell_type": "code",
      "metadata": {
        "id": "8UXNTDUTCTQk"
      },
      "source": [
        "# 定义变量\n",
        "p_list = lc.array([1, 1, 0, 0])\n",
        "q_list = lc.array([1, 0, 1, 0])"
      ],
      "execution_count": null,
      "outputs": []
    },
    {
      "cell_type": "code",
      "metadata": {
        "id": "6BfPXV8zCTQl"
      },
      "source": [
        "# 定义函数\n",
        "func01 = lambda p, q: not p or not q"
      ],
      "execution_count": null,
      "outputs": []
    },
    {
      "cell_type": "code",
      "metadata": {
        "colab": {
          "base_uri": "https://localhost:8080/"
        },
        "id": "SAiRW89tCTQm",
        "outputId": "6f9825b0-079d-4cac-9ce8-a28a6b5d3186"
      },
      "source": [
        "# 运行并保存结果\n",
        "result = lc.test(p_list, q_list, func=func01)\n",
        "# 打印结果\n",
        "result"
      ],
      "execution_count": null,
      "outputs": [
        {
          "output_type": "execute_result",
          "data": {
            "text/plain": [
              "[0, 1, 1, 1]"
            ]
          },
          "metadata": {
            "tags": []
          },
          "execution_count": 6
        }
      ]
    },
    {
      "cell_type": "code",
      "metadata": {
        "colab": {
          "base_uri": "https://localhost:8080/"
        },
        "id": "LTc_bgwZCTQn",
        "outputId": "8eba5111-b05f-4f60-9461-15b29140efb2"
      },
      "source": [
        "# tautology 判断\n",
        "lc.tautology(result)"
      ],
      "execution_count": null,
      "outputs": [
        {
          "output_type": "execute_result",
          "data": {
            "text/plain": [
              "False"
            ]
          },
          "metadata": {
            "tags": []
          },
          "execution_count": 7
        }
      ]
    },
    {
      "cell_type": "markdown",
      "metadata": {
        "id": "AP2paq9SCTQo"
      },
      "source": [
        "## 多变量实例示范\n",
        "![example2.png](data:image/png;base64,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)"
      ]
    },
    {
      "cell_type": "code",
      "metadata": {
        "id": "zE8WVrSfCTQo"
      },
      "source": [
        "# 定义变量列表\n",
        "p_list = lc.array([1, 1, 1, 1, 0, 0, 0, 0])\n",
        "q_list = lc.array([1, 1, 0, 0, 1, 1, 0, 0])\n",
        "r_list = lc.array([1, 0, 1, 0, 1, 0, 1, 0])"
      ],
      "execution_count": null,
      "outputs": []
    },
    {
      "cell_type": "code",
      "metadata": {
        "id": "1iQijDJZCTQo"
      },
      "source": [
        "#  定义函数\n",
        "func01 = lambda p, q, r: (p.implies(q) and q.implies(r)).implies(p.implies(r))"
      ],
      "execution_count": null,
      "outputs": []
    },
    {
      "cell_type": "code",
      "metadata": {
        "colab": {
          "base_uri": "https://localhost:8080/"
        },
        "id": "0sX3W_JSCTQp",
        "outputId": "ded7b956-7770-404e-c898-8fae1522a2bf"
      },
      "source": [
        "# 运行并保存结果\n",
        "result = lc.test(p_list, q_list, r_list, func=func01)\n",
        "# 打印结果\n",
        "result"
      ],
      "execution_count": null,
      "outputs": [
        {
          "output_type": "execute_result",
          "data": {
            "text/plain": [
              "[1, 1, 1, 1, 1, 1, 1, 1]"
            ]
          },
          "metadata": {
            "tags": []
          },
          "execution_count": 11
        }
      ]
    },
    {
      "cell_type": "code",
      "metadata": {
        "colab": {
          "base_uri": "https://localhost:8080/"
        },
        "id": "gXcYGR03CTQp",
        "outputId": "4ca4e324-b42e-4402-f52f-bc23efa9e736"
      },
      "source": [
        "# tautology 判断\n",
        "lc.tautology(result)"
      ],
      "execution_count": null,
      "outputs": [
        {
          "output_type": "execute_result",
          "data": {
            "text/plain": [
              "True"
            ]
          },
          "metadata": {
            "tags": []
          },
          "execution_count": 13
        }
      ]
    },
    {
      "cell_type": "markdown",
      "metadata": {
        "id": "v3QiB5UYCTQp"
      },
      "source": [
        "## Always False/Always True 列表"
      ]
    },
    {
      "cell_type": "markdown",
      "metadata": {
        "id": "9Z1D-cPFCTQp"
      },
      "source": [
        "lc.zeros为全0的列表，需要用到全0的列表时时,只需输入长度即可，无需手动输入多次0"
      ]
    },
    {
      "cell_type": "code",
      "metadata": {
        "colab": {
          "base_uri": "https://localhost:8080/"
        },
        "id": "nvPmcKy6CTQq",
        "outputId": "398b5e9c-726b-45a4-cbc6-12b741b50edb"
      },
      "source": [
        "F_list = lc.zeros(4)\n",
        "F_list"
      ],
      "execution_count": null,
      "outputs": [
        {
          "output_type": "execute_result",
          "data": {
            "text/plain": [
              "[0, 0, 0, 0]"
            ]
          },
          "metadata": {
            "tags": []
          },
          "execution_count": 14
        }
      ]
    },
    {
      "cell_type": "markdown",
      "metadata": {
        "id": "qth4uSY1CTQq"
      },
      "source": [
        "lc.ones为全1的列表，需要用到全1的列表时时,只需输入长度即可，无需手动输入多次1"
      ]
    },
    {
      "cell_type": "code",
      "metadata": {
        "colab": {
          "base_uri": "https://localhost:8080/"
        },
        "id": "ldN2cmc1CTQq",
        "outputId": "300a08c5-d8ea-41a8-b3ca-c8c2f0f9754b"
      },
      "source": [
        "T_list = lc.ones(8)\n",
        "T_list"
      ],
      "execution_count": null,
      "outputs": [
        {
          "output_type": "execute_result",
          "data": {
            "text/plain": [
              "[1, 1, 1, 1, 1, 1, 1, 1]"
            ]
          },
          "metadata": {
            "tags": []
          },
          "execution_count": 15
        }
      ]
    }
  ]
}